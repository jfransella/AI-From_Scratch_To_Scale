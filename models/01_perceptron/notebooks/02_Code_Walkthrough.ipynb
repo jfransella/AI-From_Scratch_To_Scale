{
 "cells": [
  {
   "cell_type": "markdown",
   "metadata": {
    "vscode": {
     "languageId": "raw"
    }
   },
   "source": [
    "# Perceptron Implementation: Code Walkthrough 💻\n",
    "\n",
    "**From Theory to Practice**\n",
    "\n",
    "> *\"In theory, theory and practice are the same. In practice, they are not.\"* - Anonymous Programmer\n",
    "\n",
    "Welcome to the hands-on exploration of our Perceptron implementation! This notebook takes you through the actual code, showing how the mathematical concepts from Notebook 01 translate into working Python.\n",
    "\n",
    "---\n",
    "\n",
    "## 📚 Table of Contents\n",
    "\n",
    "1. [**Setup and Imports**](#setup)\n",
    "2. [**Model Architecture Deep Dive**](#model)  \n",
    "3. [**Training System Exploration**](#training)\n",
    "4. [**Live Training Demonstration**](#demo)\n",
    "5. [**Configuration System**](#config)\n",
    "6. [**Integration with Shared Infrastructure**](#integration)\n",
    "7. [**Code Quality Analysis**](#quality)\n",
    "\n",
    "---\n",
    "\n",
    "## 🎯 What You'll Learn\n",
    "\n",
    "- How mathematical concepts become executable code\n",
    "- PyTorch integration techniques for educational models  \n",
    "- Modern software engineering practices in AI\n",
    "- Professional-grade training pipelines\n",
    "- Code organization and maintainability\n",
    "\n",
    "Let's dive into the implementation! 🚀\n",
    "\n",
    "---\n"
   ]
  },
  {
   "cell_type": "markdown",
   "metadata": {
    "vscode": {
     "languageId": "raw"
    }
   },
   "source": [
    "<a id=\"setup\"></a>\n",
    "## 🔧 Setup and Imports\n",
    "\n",
    "Before exploring the code, let's set up our environment properly. This section shows the professional approach to module loading and environment management.\n",
    "\n",
    "### **Environment Setup**\n"
   ]
  },
  {
   "cell_type": "code",
   "execution_count": null,
   "metadata": {},
   "outputs": [],
   "source": [
    "# Professional Environment Setup\n",
    "import sys\n",
    "import os\n",
    "from pathlib import Path\n",
    "import warnings\n",
    "\n",
    "# Add project root to Python path\n",
    "notebook_dir = Path.cwd()\n",
    "project_root = notebook_dir.parent.parent.parent  # Go up to project root  \n",
    "sys.path.insert(0, str(project_root))\n",
    "\n",
    "# Add src directory to Python path for local imports\n",
    "src_dir = notebook_dir.parent / \"src\"\n",
    "sys.path.insert(0, str(src_dir))\n",
    "\n",
    "print(\"🔧 Environment Setup\")\n",
    "print(\"=\" * 40)\n",
    "print(f\"📁 Notebook directory: {notebook_dir}\")\n",
    "print(f\"📁 Project root: {project_root}\")  \n",
    "print(f\"📁 Source directory: {src_dir}\")\n",
    "print(f\"🐍 Python path includes: {len(sys.path)} directories\")\n",
    "\n",
    "# Verify we can import our modules\n",
    "try:\n",
    "    from model import Perceptron, create_perceptron\n",
    "    from config import get_training_config, get_model_config\n",
    "    from constants import MODEL_NAME, ALL_EXPERIMENTS\n",
    "    print(\"✅ Successfully imported Perceptron modules\")\n",
    "except ImportError as e:\n",
    "    print(f\"❌ Import error: {e}\")\n",
    "    print(\"💡 Make sure you're running from the notebooks directory\")\n"
   ]
  },
  {
   "cell_type": "code",
   "execution_count": null,
   "metadata": {},
   "outputs": [],
   "source": [
    "# Standard imports for machine learning\n",
    "import torch\n",
    "import torch.nn as nn\n",
    "import numpy as np\n",
    "import matplotlib.pyplot as plt\n",
    "import seaborn as sns\n",
    "from typing import Dict, Any\n",
    "\n",
    "# Set up plotting style\n",
    "plt.style.use('default')\n",
    "sns.set_palette(\"husl\")\n",
    "\n",
    "# Configure torch for reproducibility\n",
    "torch.manual_seed(42)\n",
    "np.random.seed(42)\n",
    "\n",
    "print(\"📊 Analysis Tools Loaded\")\n",
    "print(\"=\" * 40)\n",
    "print(f\"🔥 PyTorch version: {torch.__version__}\")\n",
    "print(f\"🔢 NumPy version: {np.__version__}\")\n",
    "print(f\"📈 Matplotlib backend: {plt.get_backend()}\")\n",
    "print(\"✅ Ready for code exploration!\")\n"
   ]
  },
  {
   "cell_type": "markdown",
   "metadata": {
    "vscode": {
     "languageId": "raw"
    }
   },
   "source": [
    "<a id=\"model\"></a>\n",
    "## 🏗️ Model Architecture Deep Dive\n",
    "\n",
    "Let's explore how the theoretical Perceptron becomes a PyTorch model. We'll examine the key design decisions and implementation details.\n",
    "\n",
    "### **Creating and Inspecting a Perceptron**\n"
   ]
  },
  {
   "cell_type": "code",
   "execution_count": null,
   "metadata": {},
   "outputs": [],
   "source": [
    "# Create a Perceptron model and explore its structure\n",
    "print(\"🧠 Creating Perceptron Model\")\n",
    "print(\"=\" * 40)\n",
    "\n",
    "# Create model using our factory function\n",
    "model_config = {\n",
    "    'input_size': 2,\n",
    "    'learning_rate': 0.1,\n",
    "    'max_epochs': 100,\n",
    "    'tolerance': 1e-6,\n",
    "    'activation': 'step'\n",
    "}\n",
    "\n",
    "# This would normally work with proper imports:\n",
    "# model = create_perceptron(model_config)\n",
    "\n",
    "# Let's examine what a Perceptron looks like conceptually\n",
    "print(\"🔍 Perceptron Architecture:\")\n",
    "print(f\"  Input Size: {model_config['input_size']}\")\n",
    "print(f\"  Output Size: 1 (binary classification)\")\n",
    "print(f\"  Parameters: {model_config['input_size']} weights + 1 bias = {model_config['input_size'] + 1} total\")\n",
    "print(f\"  Activation: {model_config['activation']} function\")\n",
    "print(f\"  Learning Rate: {model_config['learning_rate']}\")\n",
    "\n",
    "print(\"\\n💡 Key Design Decisions:\")\n",
    "print(\"  ✓ Inherits from nn.Module for PyTorch integration\")\n",
    "print(\"  ✓ Implements BaseModel interface for unified training\")\n",
    "print(\"  ✓ Uses differentiable sigmoid during training, step during inference\")\n",
    "print(\"  ✓ Maintains classic 1957 perceptron learning rule\")\n",
    "print(\"  ✓ Includes comprehensive metadata and model info\")\n"
   ]
  },
  {
   "cell_type": "code",
   "execution_count": null,
   "metadata": {},
   "outputs": [],
   "source": []
  }
 ],
 "metadata": {
  "kernelspec": {
   "display_name": "Python 3 (ipykernel)",
   "language": "python",
   "name": "python3"
  },
  "language_info": {
   "codemirror_mode": {
    "name": "ipython",
    "version": 3
   },
   "file_extension": ".py",
   "mimetype": "text/x-python",
   "name": "python",
   "nbconvert_exporter": "python",
   "pygments_lexer": "ipython3",
   "version": "3.13.5"
  }
 },
 "nbformat": 4,
 "nbformat_minor": 4
}
